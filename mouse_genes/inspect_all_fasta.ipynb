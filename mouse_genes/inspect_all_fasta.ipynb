{
 "cells": [
  {
   "cell_type": "code",
   "execution_count": 1,
   "metadata": {},
   "outputs": [],
   "source": [
    "from Bio import SeqIO\n",
    "import scanpy as sc\n",
    "import pandas as pd\n",
    "import numpy as np"
   ]
  },
  {
   "cell_type": "code",
   "execution_count": 2,
   "metadata": {},
   "outputs": [],
   "source": [
    "input_file = \"./Mus_musculus.GRCm39.pep.all.fa\"\n",
    "fasta_sequences = SeqIO.parse(open(input_file),'fasta')\n",
    "\n",
    "df = []\n",
    "\n",
    "for fasta in fasta_sequences:\n",
    "    try:\n",
    "\n",
    "        # chromosome = fasta.description.split(\" \")[2].split(\":\")[-1]\n",
    "        gene = fasta.description.split(\" \")[3].split(\":\")[-1]\n",
    "        transcript = fasta.description.split(\" \")[4].split(\":\")[-1]\n",
    "        gene_biotype = fasta.description.split(\" \")[5].split(\":\")[-1]\n",
    "        transcript_biotype = fasta.description.split(\" \")[6].split(\":\")[-1]\n",
    "        gene_symbol = fasta.description.split(\" \")[7].split(\":\")[-1]\n",
    "        name, sequence = fasta.id, str(fasta.seq)\n",
    "\n",
    "        protein_dict = {\"gene\":gene,\"transcript\":transcript, \"gene_biotype\":gene_biotype,\"transcript_biotype\":transcript_biotype,\"gene_symbol\":gene_symbol}\n",
    "        \n",
    "        df.append(protein_dict)\n",
    "    except:\n",
    "        pass \n",
    "\n",
    "\n",
    "df = pd.DataFrame(df) "
   ]
  },
  {
   "cell_type": "code",
   "execution_count": 5,
   "metadata": {},
   "outputs": [
    {
     "data": {
      "text/html": [
       "<div>\n",
       "<style scoped>\n",
       "    .dataframe tbody tr th:only-of-type {\n",
       "        vertical-align: middle;\n",
       "    }\n",
       "\n",
       "    .dataframe tbody tr th {\n",
       "        vertical-align: top;\n",
       "    }\n",
       "\n",
       "    .dataframe thead th {\n",
       "        text-align: right;\n",
       "    }\n",
       "</style>\n",
       "<table border=\"1\" class=\"dataframe\">\n",
       "  <thead>\n",
       "    <tr style=\"text-align: right;\">\n",
       "      <th></th>\n",
       "      <th>gene</th>\n",
       "      <th>transcript</th>\n",
       "      <th>gene_biotype</th>\n",
       "      <th>transcript_biotype</th>\n",
       "      <th>gene_symbol</th>\n",
       "    </tr>\n",
       "  </thead>\n",
       "  <tbody>\n",
       "    <tr>\n",
       "      <th>0</th>\n",
       "      <td>ENSMUSG00000095668.2</td>\n",
       "      <td>ENSMUST00000178537.2</td>\n",
       "      <td>TR_D_gene</td>\n",
       "      <td>TR_D_gene</td>\n",
       "      <td>Trbd1</td>\n",
       "    </tr>\n",
       "    <tr>\n",
       "      <th>1</th>\n",
       "      <td>ENSMUSG00000094569.2</td>\n",
       "      <td>ENSMUST00000178862.2</td>\n",
       "      <td>TR_D_gene</td>\n",
       "      <td>TR_D_gene</td>\n",
       "      <td>Trbd2</td>\n",
       "    </tr>\n",
       "    <tr>\n",
       "      <th>2</th>\n",
       "      <td>ENSMUSG00000096749.3</td>\n",
       "      <td>ENSMUST00000196221.2</td>\n",
       "      <td>TR_D_gene</td>\n",
       "      <td>TR_D_gene</td>\n",
       "      <td>Trdd1</td>\n",
       "    </tr>\n",
       "    <tr>\n",
       "      <th>3</th>\n",
       "      <td>ENSMUSG00000096176.2</td>\n",
       "      <td>ENSMUST00000177564.2</td>\n",
       "      <td>TR_D_gene</td>\n",
       "      <td>TR_D_gene</td>\n",
       "      <td>Trdd2</td>\n",
       "    </tr>\n",
       "    <tr>\n",
       "      <th>4</th>\n",
       "      <td>ENSMUSG00000094028.2</td>\n",
       "      <td>ENSMUST00000179520.2</td>\n",
       "      <td>IG_D_gene</td>\n",
       "      <td>IG_D_gene</td>\n",
       "      <td>Ighd4-1</td>\n",
       "    </tr>\n",
       "  </tbody>\n",
       "</table>\n",
       "</div>"
      ],
      "text/plain": [
       "                   gene            transcript gene_biotype transcript_biotype  \\\n",
       "0  ENSMUSG00000095668.2  ENSMUST00000178537.2    TR_D_gene          TR_D_gene   \n",
       "1  ENSMUSG00000094569.2  ENSMUST00000178862.2    TR_D_gene          TR_D_gene   \n",
       "2  ENSMUSG00000096749.3  ENSMUST00000196221.2    TR_D_gene          TR_D_gene   \n",
       "3  ENSMUSG00000096176.2  ENSMUST00000177564.2    TR_D_gene          TR_D_gene   \n",
       "4  ENSMUSG00000094028.2  ENSMUST00000179520.2    IG_D_gene          IG_D_gene   \n",
       "\n",
       "  gene_symbol  \n",
       "0       Trbd1  \n",
       "1       Trbd2  \n",
       "2       Trdd1  \n",
       "3       Trdd2  \n",
       "4     Ighd4-1  "
      ]
     },
     "execution_count": 5,
     "metadata": {},
     "output_type": "execute_result"
    }
   ],
   "source": [
    "df.head()"
   ]
  },
  {
   "cell_type": "code",
   "execution_count": 7,
   "metadata": {},
   "outputs": [
    {
     "name": "stdout",
     "output_type": "stream",
     "text": [
      "22381\n"
     ]
    }
   ],
   "source": [
    "print(len(df[\"gene_symbol\"].unique()))"
   ]
  },
  {
   "cell_type": "code",
   "execution_count": 8,
   "metadata": {},
   "outputs": [
    {
     "name": "stdout",
     "output_type": "stream",
     "text": [
      "67105\n"
     ]
    }
   ],
   "source": [
    "print(len(df[\"transcript\"].unique()))"
   ]
  },
  {
   "cell_type": "code",
   "execution_count": null,
   "metadata": {},
   "outputs": [],
   "source": [
    "# get histogram of proteins per gene...\n",
    "\n"
   ]
  }
 ],
 "metadata": {
  "kernelspec": {
   "display_name": "Python 3",
   "language": "python",
   "name": "python3"
  },
  "language_info": {
   "codemirror_mode": {
    "name": "ipython",
    "version": 3
   },
   "file_extension": ".py",
   "mimetype": "text/x-python",
   "name": "python",
   "nbconvert_exporter": "python",
   "pygments_lexer": "ipython3",
   "version": "3.8.10"
  },
  "orig_nbformat": 4,
  "vscode": {
   "interpreter": {
    "hash": "31f2aee4e71d21fbe5cf8b01ff0e069b9275f58929596ceb00d14d90e3e16cd6"
   }
  }
 },
 "nbformat": 4,
 "nbformat_minor": 2
}
